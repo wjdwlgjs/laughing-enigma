{
 "cells": [
  {
   "cell_type": "code",
   "execution_count": 1,
   "metadata": {},
   "outputs": [],
   "source": [
    "import torch\n",
    "from torch import nn \n",
    "import numpy as np\n",
    "from collections import deque\n",
    "import random\n",
    "import gym"
   ]
  },
  {
   "cell_type": "code",
   "execution_count": 2,
   "metadata": {},
   "outputs": [],
   "source": [
    "class Model(nn.Module):\n",
    "    def __init__(self):\n",
    "        super().__init__()\n",
    "        self.common=nn.Sequential(\n",
    "            nn.Linear(8, 48),\n",
    "            nn.ReLU(),\n",
    "            nn.Linear(48, 48),\n",
    "            nn.ReLU()\n",
    "        )\n",
    "        self.actor=nn.Sequential(\n",
    "            nn.Linear(48, 4),\n",
    "            nn.Softmax(dim=-1)\n",
    "        )\n",
    "        \n",
    "        self.critic=nn.Linear(48, 1)\n",
    "\n",
    "    def forward(self, x):\n",
    "        x=self.common(x)\n",
    "        return self.actor(x), self.critic(x)"
   ]
  },
  {
   "cell_type": "code",
   "execution_count": 3,
   "metadata": {},
   "outputs": [],
   "source": [
    "def _cuda_tensor(x):\n",
    "    return torch.tensor(x, dtype=torch.float32, device='cuda')\n",
    "\n",
    "class Agent:\n",
    "    def __init__(self):\n",
    "        self.gamma=.99\n",
    "        self.model=Model().to('cuda')\n",
    "        self.optimizer=torch.optim.Adam(self.model.parameters(), 5e-5)\n",
    "        self.env=gym.make('LunarLander-v2')\n",
    "\n",
    "    def step(self, i_state:np.ndarray):\n",
    "        probs_tensor, value=self.model.forward(_cuda_tensor(i_state))\n",
    "        action=np.random.choice((0, 1, 2, 3), p=probs_tensor.detach().cpu().numpy())\n",
    "        f_state, reward, done, _=self.env.step(action)\n",
    "        with torch.no_grad():\n",
    "            _, next_state_value=self.model.forward(_cuda_tensor(f_state))\n",
    "        td_error=reward+self.gamma*next_state_value*(1-float(done))-value\n",
    "        ln_prob=torch.log(probs_tensor)[action]\n",
    "        loss=td_error**2+ln_prob\n",
    "        self.optimizer.zero_grad()\n",
    "        loss.backward()\n",
    "        self.optimizer.step()\n",
    "        self.env.render('rgb_array')\n",
    "        if not done:\n",
    "            try:\n",
    "                self.step(f_state)\n",
    "            except:\n",
    "                return\n",
    "\n",
    "    def play(self):\n",
    "        self.step(self.env.reset())"
   ]
  },
  {
   "cell_type": "code",
   "execution_count": 4,
   "metadata": {},
   "outputs": [],
   "source": [
    "agent=Agent()"
   ]
  },
  {
   "cell_type": "code",
   "execution_count": 5,
   "metadata": {},
   "outputs": [
    {
     "name": "stderr",
     "output_type": "stream",
     "text": [
      "c:\\Users\\love4\\anaconda3\\envs\\love4ml\\lib\\site-packages\\pyglet\\image\\codecs\\wic.py:289: UserWarning: [WinError -2147417850] 스레드 모드가 설정된 후에는 바꿀 수 없습니다\n",
      "  warnings.warn(str(err))\n"
     ]
    }
   ],
   "source": [
    "for episode in range(1500):\n",
    "    agent.play()"
   ]
  }
 ],
 "metadata": {
  "kernelspec": {
   "display_name": "Python 3.10.4 ('love4ml')",
   "language": "python",
   "name": "python3"
  },
  "language_info": {
   "codemirror_mode": {
    "name": "ipython",
    "version": 3
   },
   "file_extension": ".py",
   "mimetype": "text/x-python",
   "name": "python",
   "nbconvert_exporter": "python",
   "pygments_lexer": "ipython3",
   "version": "3.10.4"
  },
  "orig_nbformat": 4,
  "vscode": {
   "interpreter": {
    "hash": "f18ae30d8c66d70b70f9056193cb7f462aa0a1a92f2b7abb2342a9d5cf787112"
   }
  }
 },
 "nbformat": 4,
 "nbformat_minor": 2
}
