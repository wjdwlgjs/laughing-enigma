{
 "cells": [
  {
   "cell_type": "code",
   "execution_count": null,
   "metadata": {},
   "outputs": [],
   "source": [
    "import torch\n",
    "from torch import nn \n",
    "import numpy as np\n",
    "from collections import deque\n",
    "import gym"
   ]
  },
  {
   "cell_type": "code",
   "execution_count": null,
   "metadata": {},
   "outputs": [],
   "source": [
    "class Model(nn.Module):\n",
    "    def __init__(self):\n",
    "        super().__init__()\n",
    "        self.common=nn.Sequential(\n",
    "            nn.Linear(8, 48),\n",
    "            nn.ReLU(),\n",
    "            nn.Linear(48, 48),\n",
    "            nn.ReLU()\n",
    "        )\n",
    "        self.actor=nn.Sequential(\n",
    "            nn.Linear(48, 4),\n",
    "            nn.Softmax(dim=-1)\n",
    "        )\n",
    "        \n",
    "        self.critic=nn.Linear(48, 4)\n",
    "\n",
    "    def forward(self, x):\n",
    "        x=self.common(x)\n",
    "        return self.actor(x), self.critic(x)"
   ]
  },
  {
   "cell_type": "code",
   "execution_count": null,
   "metadata": {},
   "outputs": [],
   "source": [
    "def _cuda_tensor(x):\n",
    "    return torch.tensor(x, dtype=torch.float32, device='cuda')\n",
    "\n",
    "class Agent:\n",
    "    def __init__(self):\n",
    "        self.gamma=.99\n",
    "        self.model=Model().to('cuda')\n",
    "        self.optimizer=torch.optim.Adam(self.model.parameters(), 5e-5)\n",
    "        self.env=gym.make('LunarLander-v2')\n",
    "        self.episode_memory=deque()\n",
    "\n",
    "    def step(self, i_state:np.ndarray):\n",
    "        with torch.no_grad():\n",
    "            probs, _=self.model.forward(_cuda_tensor(i_state))\n",
    "        action=np.random.choice((0, 1, 2, 3), p=probs.detach().cpu().numpy())\n",
    "        f_state, reward, done, _=self.env.step(action)\n",
    "        self.episode_memory[-1].append(action)\n",
    "        self.episode_memory.append([np.copy(i_state), action, reward, done, np.copy(f_state)])\n",
    "        self.env.render('rgb_array')\n",
    "        if not done:\n",
    "            try:\n",
    "                self.step(f_state)\n",
    "            except:\n",
    "                self.episode_memory[-1][3]=True\n",
    "                return\n",
    "        \n",
    "    def learn(self):\n",
    "        self.episode_memory.reverse()\n",
    "        for transition in self.episode_memory:\n",
    "            try:\n",
    "                i_state, action, reward, done, f_state, next_action=transition\n",
    "            except:\n",
    "                i_state, action, reward, done, f_state=transition\n",
    "            \n",
    "            probs_tensor, qvals_tensor=self.model.forward(_cuda_tensor(i_state))\n",
    "            \n",
    "            policy_grad=-torch.log(probs_tensor)[action]*qvals_tensor.detach()[action]\n",
    "            if not done:\n",
    "                with torch.no_grad():\n",
    "                    _, next_qvals=self.model.forward(_cuda_tensor(f_state))\n",
    "                critic_loss=(reward+self.gamma*next_qvals[next_action]-qvals_tensor[action])**2\n",
    "            else:\n",
    "                critic_loss=(reward-qvals_tensor[action])**2\n",
    "            \n",
    "            loss=policy_grad+critic_loss\n",
    "            self.optimizer.zero_grad()\n",
    "            loss.backward()\n",
    "            self.optimizer.step()\n",
    "    \n",
    "    def play_episode(self):\n",
    "        self.episode_memory.clear()\n",
    "        self.step(self.env.reset())\n"
   ]
  },
  {
   "cell_type": "code",
   "execution_count": null,
   "metadata": {},
   "outputs": [],
   "source": [
    "agent=Agent()"
   ]
  },
  {
   "cell_type": "code",
   "execution_count": null,
   "metadata": {},
   "outputs": [],
   "source": [
    "for episode in range(1500):\n",
    "    agent.play_episode()\n",
    "    agent.learn()"
   ]
  }
 ],
 "metadata": {
  "kernelspec": {
   "display_name": "Python 3.10.4 ('love4ml')",
   "language": "python",
   "name": "python3"
  },
  "language_info": {
   "codemirror_mode": {
    "name": "ipython",
    "version": 3
   },
   "file_extension": ".py",
   "mimetype": "text/x-python",
   "name": "python",
   "nbconvert_exporter": "python",
   "pygments_lexer": "ipython3",
   "version": "3.10.4"
  },
  "orig_nbformat": 4,
  "vscode": {
   "interpreter": {
    "hash": "f18ae30d8c66d70b70f9056193cb7f462aa0a1a92f2b7abb2342a9d5cf787112"
   }
  }
 },
 "nbformat": 4,
 "nbformat_minor": 2
}
